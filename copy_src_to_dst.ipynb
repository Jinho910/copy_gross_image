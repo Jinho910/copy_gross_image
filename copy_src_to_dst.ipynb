{
 "cells": [
  {
   "cell_type": "code",
   "execution_count": 1,
   "id": "071fea55",
   "metadata": {},
   "outputs": [],
   "source": [
    "import os\n",
    "import pandas as pd\n",
    "from distutils.dir_util import copy_tree"
   ]
  },
  {
   "cell_type": "code",
   "execution_count": 5,
   "id": "ecc89013",
   "metadata": {},
   "outputs": [],
   "source": [
    "# Define excel file name, source and destination folder\n",
    "xlsx = '/path/to/file.xlsx'\n",
    "src_path = '/path/to/foler/'\n",
    "dst_path = '/path/to/folder/'"
   ]
  },
  {
   "cell_type": "code",
   "execution_count": 6,
   "id": "3c8025a8",
   "metadata": {},
   "outputs": [],
   "source": [
    "# Read the Excel file and sheet\n",
    "df = pd.read_excel(xlsx, sheet_name='Sheet1')"
   ]
  },
  {
   "cell_type": "code",
   "execution_count": 7,
   "id": "3e210e28",
   "metadata": {},
   "outputs": [],
   "source": [
    "# Iterate through each row of the DataFrame\n",
    "for index, row in df.iterrows():\n",
    "    # Get the source and destination folder paths\n",
    "    src_folder = os.path.join(src_path, row['src_folder'])\n",
    "    dst_folder = os.path.join(dst_path, row['dst_folder'])\n",
    "    # Check if the source folder exists\n",
    "    if os.path.exists(src_folder):\n",
    "        # If the destination folder does not exist, create it\n",
    "        if not os.path.exists(dst_folder):\n",
    "            os.makedirs(dst_folder)\n",
    "        # Copy the contents of the source folder to the destination folder\n",
    "        copy_tree(src_folder, dst_folder)\n",
    "    else:\n",
    "        print(f\"{src_folder} does not exist.\")"
   ]
  }
 ],
 "metadata": {
  "kernelspec": {
   "display_name": "Python 3 (ipykernel)",
   "language": "python",
   "name": "python3"
  },
  "language_info": {
   "codemirror_mode": {
    "name": "ipython",
    "version": 3
   },
   "file_extension": ".py",
   "mimetype": "text/x-python",
   "name": "python",
   "nbconvert_exporter": "python",
   "pygments_lexer": "ipython3",
   "version": "3.9.13"
  }
 },
 "nbformat": 4,
 "nbformat_minor": 5
}
